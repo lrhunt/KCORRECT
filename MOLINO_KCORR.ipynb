{
 "cells": [
  {
   "cell_type": "markdown",
   "metadata": {},
   "source": [
    "Below will be some code to calculate k-corrections for clusters in the Molino HST Cluster catalogs, following their example"
   ]
  },
  {
   "cell_type": "code",
   "execution_count": 2,
   "metadata": {},
   "outputs": [],
   "source": [
    "import numpy as np\n",
    "import pandas as pd\n",
    "import kcorrect \n",
    "import kcorrect.utils as ut"
   ]
  },
  {
   "cell_type": "code",
   "execution_count": null,
   "metadata": {},
   "outputs": [],
   "source": [
    "infile='/home/lrhunt/Documents/LCBG_CLUSTER_GROUP/hlsp_clash_hst_ir_macs2129_cat-molino.txt'\n",
    "\n",
    "dataset=pd.read_table(infile,delim_whitespace=True,header=133)\n"
   ]
  },
  {
   "cell_type": "code",
   "execution_count": null,
   "metadata": {},
   "outputs": [],
   "source": [
    "cluster_member=dataset[(dataset.zb_1<dataset.clusterz+0.2)&(dataset.zb_1>dataset.clusterz-0.2)]\n"
   ]
  },
  {
   "cell_type": "code",
   "execution_count": null,
   "metadata": {},
   "outputs": [],
   "source": [
    "cluster_member_photometry=cluster_member[['CLASHID','F435W_ACS_MASS','dF435W_ACS_MASS','F475W_ACS_MASS','dF475W_ACS_MASS','F606W_ACS_MASS','dF606W_ACS_MASS','F625W_ACS_MASS','dF625W_ACS_MASS','F775W_ACS_MASS','dF775W_ACS_MASS','F814W_ACS_MASS','dF814W_ACS_MASS','F850LP_ACS_MASS','dF850LP_ACS_MASS','F105W_WFC3_MASS','dF105W_WFC3_MASS','F110W_WFC3_MASS','dF110W_WFC3_MASS','F125W_WFC3_MASS','dF125W_WFC3_MASS','F140W_WFC3_MASS','dF140W_WFC3_MASS','F160W_WFC3_MASS','dF160W_WFC3_MASS','F225W_WFC3_MASS','dF225W_WFC3_MASS','F275W_WFC3_MASS','dF275W_WFC3_MASS','F336W_WFC3_MASS','dF336W_WFC3_MASS','F390W_WFC3_MASS','dF390W_WFC3_MASS','zb_1']]\n"
   ]
  },
  {
   "cell_type": "code",
   "execution_count": null,
   "metadata": {},
   "outputs": [],
   "source": [
    "cluster_member_maggies=cluster_member_photometry.copy(deep=True)"
   ]
  },
  {
   "cell_type": "code",
   "execution_count": null,
   "metadata": {},
   "outputs": [],
   "source": [
    "cluster_member_maggies=cluster_member_maggies[(cluster_member_maggies.F435W_ACS_MASS<80)&(cluster_member_maggies.F475W_ACS_MASS<80)&(cluster_member_maggies.F606W_ACS_MASS<80)&(cluster_member_maggies.F625W_ACS_MASS<80)&(cluster_member_maggies.F775W_ACS_MASS<80)&(cluster_member_maggies.F814W_ACS_MASS<80)&(cluster_member_maggies.F850LP_ACS_MASS<80)&(cluster_member_maggies.F105W_WFC3_MASS<80)&(cluster_member_maggies.F110W_WFC3_MASS<80)&(cluster_member_maggies.F125W_WFC3_MASS<80)&(cluster_member_maggies.F140W_WFC3_MASS<80)&(cluster_member_maggies.F160W_WFC3_MASS<80)&(cluster_member_maggies.F225W_WFC3_MASS<80)&(cluster_member_maggies.F275W_WFC3_MASS<80)&(cluster_member_maggies.F336W_WFC3_MASS<80)&(cluster_member_maggies.F390W_WFC3_MASS<80)]\n"
   ]
  },
  {
   "cell_type": "code",
   "execution_count": null,
   "metadata": {},
   "outputs": [],
   "source": [
    "cluster_member_maggies.iloc[:,np.arange(1,33,2)]=ut.mag2maggies(cluster_member_maggies.iloc[:,np.arange(1,33,2)])\n"
   ]
  },
  {
   "cell_type": "code",
   "execution_count": null,
   "metadata": {},
   "outputs": [],
   "source": [
    "for var in np.arange(2,33,2):\n",
    "\tcluster_member_maggies.iloc[:,var]=ut.invariance(cluster_member_maggies.iloc[:,var-1],cluster_member_maggies.iloc[:,var])\n"
   ]
  },
  {
   "cell_type": "code",
   "execution_count": null,
   "metadata": {},
   "outputs": [],
   "source": [
    "cluster_member_maggies[\"c1\"]=np.nan\n",
    "cluster_member_maggies[\"c2\"]=np.nan\n",
    "cluster_member_maggies[\"c3\"]=np.nan\n",
    "cluster_member_maggies[\"c4\"]=np.nan\n",
    "cluster_member_maggies[\"c5\"]=np.nan\n",
    "cluster_member_maggies[\"c6\"]=np.nan\n"
   ]
  },
  {
   "cell_type": "code",
   "execution_count": null,
   "metadata": {},
   "outputs": [],
   "source": [
    "cluster_member_maggies_from_kcorr=cluster_member_maggies.iloc[:,np.arange(1,31,2)]\n",
    "cluster_member_maggies_from_kcorr.insert(loc=0,column='redshift',value=np.nan)\n"
   ]
  },
  {
   "cell_type": "code",
   "execution_count": null,
   "metadata": {},
   "outputs": [],
   "source": [
    "cmm_ind=cluster_member_maggies.index.values\n"
   ]
  },
  {
   "cell_type": "code",
   "execution_count": null,
   "metadata": {},
   "outputs": [],
   "source": [
    "for i in cmm_ind:\n",
    "\tcluster_member_maggies.loc[i,'c1':'c6']=kcorrect.fit_nonneg(np.array(cluster_member_maggies.loc[i,'zb_1'],dtype=float),np.array(cluster_member_maggies.loc[i, np.array(list(cluster_member_maggies))[np.arange(1,31,2)]],dtype=float),np.array(cluster_member_maggies.loc[i,np.array(list(cluster_member_maggies))[np.arange(1,31,2)]],dtype=float))\n"
   ]
  },
  {
   "cell_type": "code",
   "execution_count": null,
   "metadata": {},
   "outputs": [],
   "source": [
    "kcorrect.load_templates()\n",
    "kcorrect.load_filters('/home/lrhunt/programs/kcorrect/data/templates/LCBG_CLUSTER_FLITS.dat')\n"
   ]
  },
  {
   "cell_type": "code",
   "execution_count": null,
   "metadata": {},
   "outputs": [],
   "source": [
    "for i in cmm_ind:\n",
    "\tcluster_member_maggies_from_kcorr.loc[i]=kcorrect.reconstruct_maggies(cluster_member_maggies.loc[i,'c1':'c6'])\n"
   ]
  },
  {
   "cell_type": "code",
   "execution_count": null,
   "metadata": {},
   "outputs": [],
   "source": [
    "columns=list(cluster_member_maggies_from_kcorr)\n",
    "\n",
    "new_columns={}\n",
    "\n",
    "for column in columns:\n",
    "    new_columns.update({column:column+'_s'})\n",
    "\n",
    "cluster_member_maggies_from_kcorr=cluster_member_maggies_from_kcorr.rename(columns=new_columns)\n"
   ]
  },
  {
   "cell_type": "code",
   "execution_count": null,
   "metadata": {},
   "outputs": [],
   "source": []
  },
  {
   "cell_type": "code",
   "execution_count": null,
   "metadata": {},
   "outputs": [],
   "source": []
  }
 ],
 "metadata": {
  "kernelspec": {
   "display_name": "Python 3",
   "language": "python",
   "name": "python3"
  },
  "language_info": {
   "codemirror_mode": {
    "name": "ipython",
    "version": 3
   },
   "file_extension": ".py",
   "mimetype": "text/x-python",
   "name": "python",
   "nbconvert_exporter": "python",
   "pygments_lexer": "ipython3",
   "version": "3.6.6"
  }
 },
 "nbformat": 4,
 "nbformat_minor": 2
}
